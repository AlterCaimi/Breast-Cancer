{
 "cells": [
  {
   "cell_type": "code",
   "execution_count": 1,
   "metadata": {},
   "outputs": [],
   "source": [
    "# load part of the toolkit\n",
    "import pandas as pd \n",
    "import numpy as np \n",
    "import matplotlib.pyplot as plt \n",
    "import seaborn as sns \n",
    "import warnings\n",
    "warnings.filterwarnings('ignore')"
   ]
  },
  {
   "cell_type": "code",
   "execution_count": 2,
   "metadata": {},
   "outputs": [
    {
     "data": {
      "text/html": [
       "<div>\n",
       "<style scoped>\n",
       "    .dataframe tbody tr th:only-of-type {\n",
       "        vertical-align: middle;\n",
       "    }\n",
       "\n",
       "    .dataframe tbody tr th {\n",
       "        vertical-align: top;\n",
       "    }\n",
       "\n",
       "    .dataframe thead th {\n",
       "        text-align: right;\n",
       "    }\n",
       "</style>\n",
       "<table border=\"1\" class=\"dataframe\">\n",
       "  <thead>\n",
       "    <tr style=\"text-align: right;\">\n",
       "      <th></th>\n",
       "      <th>Age</th>\n",
       "      <th>BMI</th>\n",
       "      <th>Glucose</th>\n",
       "      <th>Insulin</th>\n",
       "      <th>HOMA</th>\n",
       "      <th>Leptin</th>\n",
       "      <th>Adiponectin</th>\n",
       "      <th>Resistin</th>\n",
       "      <th>MCP.1</th>\n",
       "      <th>Classification</th>\n",
       "    </tr>\n",
       "  </thead>\n",
       "  <tbody>\n",
       "    <tr>\n",
       "      <th>0</th>\n",
       "      <td>48</td>\n",
       "      <td>23.500000</td>\n",
       "      <td>70</td>\n",
       "      <td>2.707</td>\n",
       "      <td>0.467409</td>\n",
       "      <td>8.8071</td>\n",
       "      <td>9.702400</td>\n",
       "      <td>7.99585</td>\n",
       "      <td>417.114</td>\n",
       "      <td>1</td>\n",
       "    </tr>\n",
       "    <tr>\n",
       "      <th>1</th>\n",
       "      <td>83</td>\n",
       "      <td>20.690495</td>\n",
       "      <td>92</td>\n",
       "      <td>3.115</td>\n",
       "      <td>0.706897</td>\n",
       "      <td>8.8438</td>\n",
       "      <td>5.429285</td>\n",
       "      <td>4.06405</td>\n",
       "      <td>468.786</td>\n",
       "      <td>1</td>\n",
       "    </tr>\n",
       "    <tr>\n",
       "      <th>2</th>\n",
       "      <td>82</td>\n",
       "      <td>23.124670</td>\n",
       "      <td>91</td>\n",
       "      <td>4.498</td>\n",
       "      <td>1.009651</td>\n",
       "      <td>17.9393</td>\n",
       "      <td>22.432040</td>\n",
       "      <td>9.27715</td>\n",
       "      <td>554.697</td>\n",
       "      <td>1</td>\n",
       "    </tr>\n",
       "    <tr>\n",
       "      <th>3</th>\n",
       "      <td>68</td>\n",
       "      <td>21.367521</td>\n",
       "      <td>77</td>\n",
       "      <td>3.226</td>\n",
       "      <td>0.612725</td>\n",
       "      <td>9.8827</td>\n",
       "      <td>7.169560</td>\n",
       "      <td>12.76600</td>\n",
       "      <td>928.220</td>\n",
       "      <td>1</td>\n",
       "    </tr>\n",
       "    <tr>\n",
       "      <th>4</th>\n",
       "      <td>86</td>\n",
       "      <td>21.111111</td>\n",
       "      <td>92</td>\n",
       "      <td>3.549</td>\n",
       "      <td>0.805386</td>\n",
       "      <td>6.6994</td>\n",
       "      <td>4.819240</td>\n",
       "      <td>10.57635</td>\n",
       "      <td>773.920</td>\n",
       "      <td>1</td>\n",
       "    </tr>\n",
       "  </tbody>\n",
       "</table>\n",
       "</div>"
      ],
      "text/plain": [
       "   Age        BMI  Glucose  Insulin      HOMA   Leptin  Adiponectin  Resistin  \\\n",
       "0   48  23.500000       70    2.707  0.467409   8.8071     9.702400   7.99585   \n",
       "1   83  20.690495       92    3.115  0.706897   8.8438     5.429285   4.06405   \n",
       "2   82  23.124670       91    4.498  1.009651  17.9393    22.432040   9.27715   \n",
       "3   68  21.367521       77    3.226  0.612725   9.8827     7.169560  12.76600   \n",
       "4   86  21.111111       92    3.549  0.805386   6.6994     4.819240  10.57635   \n",
       "\n",
       "     MCP.1  Classification  \n",
       "0  417.114               1  \n",
       "1  468.786               1  \n",
       "2  554.697               1  \n",
       "3  928.220               1  \n",
       "4  773.920               1  "
      ]
     },
     "execution_count": 2,
     "metadata": {},
     "output_type": "execute_result"
    }
   ],
   "source": [
    "# load data\n",
    "data = pd.read_csv('Coimbra_breast_cancer_dataset.csv')\n",
    "data.head()"
   ]
  },
  {
   "cell_type": "code",
   "execution_count": 5,
   "metadata": {},
   "outputs": [
    {
     "name": "stdout",
     "output_type": "stream",
     "text": [
      "<class 'pandas.core.frame.DataFrame'>\n",
      "RangeIndex: 116 entries, 0 to 115\n",
      "Data columns (total 10 columns):\n",
      " #   Column          Non-Null Count  Dtype  \n",
      "---  ------          --------------  -----  \n",
      " 0   Age             116 non-null    int64  \n",
      " 1   BMI             116 non-null    float64\n",
      " 2   Glucose         116 non-null    int64  \n",
      " 3   Insulin         116 non-null    float64\n",
      " 4   HOMA            116 non-null    float64\n",
      " 5   Leptin          116 non-null    float64\n",
      " 6   Adiponectin     116 non-null    float64\n",
      " 7   Resistin        116 non-null    float64\n",
      " 8   MCP.1           116 non-null    float64\n",
      " 9   Classification  116 non-null    int64  \n",
      "dtypes: float64(7), int64(3)\n",
      "memory usage: 9.2 KB\n"
     ]
    }
   ],
   "source": [
    "# view info:\n",
    "data.info()"
   ]
  },
  {
   "cell_type": "code",
   "execution_count": 4,
   "metadata": {},
   "outputs": [],
   "source": [
    "# modify Classification so we have 0 and 1 values:\n",
    "\n",
    "data['Classification'] = data['Classification'] - 1\n",
    "\n",
    "# Define X and y:\n",
    "\n",
    "X = data.iloc[:,:-1]\n",
    "y = data.iloc[:,-1]"
   ]
  },
  {
   "cell_type": "code",
   "execution_count": 6,
   "metadata": {},
   "outputs": [],
   "source": [
    "# train test split:\n",
    "from sklearn.model_selection import train_test_split\n",
    "\n",
    "X_train, X_test, y_train, y_test = train_test_split(X, y, test_size=0.2, random_state=639)"
   ]
  },
  {
   "cell_type": "code",
   "execution_count": 26,
   "metadata": {},
   "outputs": [
    {
     "name": "stdout",
     "output_type": "stream",
     "text": [
      "Best hyperparameters: {'C': 5, 'l1_ratio': 0, 'penalty': 'l2', 'random_state': 639, 'solver': 'liblinear'}\n",
      "AUC on the test set: 0.8370\n"
     ]
    }
   ],
   "source": [
    "# first we´re going to try logistic regression without scalling and without dimensionality reduction:\n",
    "from sklearn.linear_model import LogisticRegression\n",
    "from sklearn.model_selection import GridSearchCV\n",
    "from sklearn.metrics import roc_auc_score\n",
    "\n",
    "lr_1 = LogisticRegression()\n",
    "\n",
    "grid_params = {\n",
    "                'penalty': [None, 'l2', 'l1', 'elasticnet'],\n",
    "                'C': [0.01, 0.1, 1, 2, 5, 7, 10],\n",
    "                'random_state': [639],\n",
    "                'solver': ['lbfgs', 'liblinear', 'newton-cg', 'newton-cholesky', 'sag', 'saga'],\n",
    "                'l1_ratio': [0, 0.25, 0.5, 0.75, 1]\n",
    "}\n",
    "\n",
    "grid_search = GridSearchCV(lr_1, grid_params, cv=10, scoring='roc_auc')\n",
    "\n",
    "grid_search.fit(X_train, y_train)\n",
    "print(f'Best hyperparameters: {grid_search.best_params_}')\n",
    "\n",
    "best_model = grid_search.best_estimator_\n",
    "y_pred_proba = best_model.predict_proba(X_test)[:, 1]\n",
    "best_auc = roc_auc_score(y_test, y_pred_proba)\n",
    "print(f'AUC on the test set: {best_auc:.4f}')\n"
   ]
  },
  {
   "cell_type": "code",
   "execution_count": 12,
   "metadata": {},
   "outputs": [
    {
     "name": "stdout",
     "output_type": "stream",
     "text": [
      "Best parameters: {'C': 1, 'l1_ratio': 0, 'penalty': 'l1', 'random_state': 639, 'solver': 'liblinear'}\n",
      "AUC on the test set: 0.8370\n"
     ]
    }
   ],
   "source": [
    "# the second version implements z_score scalling\n",
    "\n",
    "from sklearn.preprocessing import StandardScaler\n",
    "\n",
    "scaler = StandardScaler()\n",
    "X_train_scaled = scaler.fit_transform(X_train)\n",
    "X_test_scaled = scaler.transform(X_test)\n",
    "\n",
    "lr_2 = LogisticRegression()\n",
    "\n",
    "grid_params = {\n",
    "                'penalty': [None, 'l2', 'l1', 'elasticnet'],\n",
    "                'C': [0.01, 0.1, 1, 2, 5, 7, 10],\n",
    "                'random_state': [639],\n",
    "                'solver': ['lbfgs', 'liblinear', 'newton-cg', 'newton-cholesky', 'sag', 'saga'],\n",
    "                'l1_ratio': [0, 0.25, 0.5, 0.75, 1]\n",
    "}\n",
    "\n",
    "grid_search = GridSearchCV(lr_2, grid_params, cv=10, scoring='roc_auc')\n",
    "\n",
    "grid_search.fit(X_train_scaled, y_train)\n",
    "print(f'Best hyperparameters: {grid_search.best_params_}')\n",
    "\n",
    "best_model = grid_search.best_estimator_\n",
    "y_pred_proba = best_model.predict_proba(X_test_scaled)[:, 1]\n",
    "best_auc = roc_auc_score(y_test, y_pred_proba)\n",
    "print(f'AUC on the test set: {best_auc:.4f}')"
   ]
  },
  {
   "cell_type": "code",
   "execution_count": null,
   "metadata": {},
   "outputs": [],
   "source": [
    "# we can see that the AUC is indiferent to scalling (despite the hiperparameters changed)"
   ]
  },
  {
   "cell_type": "code",
   "execution_count": 13,
   "metadata": {},
   "outputs": [
    {
     "name": "stdout",
     "output_type": "stream",
     "text": [
      "Best hyperparameters: {'C': 5, 'l1_ratio': 0, 'penalty': 'l1', 'random_state': 639, 'solver': 'saga'}\n",
      "AUC on the test set: 0.8370\n"
     ]
    }
   ],
   "source": [
    "# third version implements min-max scaler\n",
    "\n",
    "from sklearn.preprocessing import MinMaxScaler\n",
    "\n",
    "scaler = MinMaxScaler()\n",
    "X_train_scaled = scaler.fit_transform(X_train)\n",
    "X_test_scaled = scaler.transform(X_test)\n",
    "\n",
    "lr_3 = LogisticRegression()\n",
    "\n",
    "grid_params = {\n",
    "                'penalty': [None, 'l2', 'l1', 'elasticnet'],\n",
    "                'C': [0.01, 0.1, 1, 2, 5, 7, 10],\n",
    "                'random_state': [639],\n",
    "                'solver': ['lbfgs', 'liblinear', 'newton-cg', 'newton-cholesky', 'sag', 'saga'],\n",
    "                'l1_ratio': [0, 0.25, 0.5, 0.75, 1]\n",
    "}\n",
    "\n",
    "grid_search = GridSearchCV(lr_3, grid_params, cv=10, scoring='roc_auc')\n",
    "\n",
    "grid_search.fit(X_train_scaled, y_train)\n",
    "print(f'Best hyperparameters: {grid_search.best_params_}')\n",
    "\n",
    "best_model = grid_search.best_estimator_\n",
    "y_pred_proba = best_model.predict_proba(X_test_scaled)[:, 1]\n",
    "best_auc = roc_auc_score(y_test, y_pred_proba)\n",
    "print(f'AUC on the test set: {best_auc:.4f}')"
   ]
  },
  {
   "cell_type": "code",
   "execution_count": null,
   "metadata": {},
   "outputs": [],
   "source": [
    "# again, this algoritm returns the same AUC independently of the scalling"
   ]
  },
  {
   "cell_type": "code",
   "execution_count": 15,
   "metadata": {},
   "outputs": [
    {
     "name": "stdout",
     "output_type": "stream",
     "text": [
      "LogReg AUC: 0.6519, Number of components: 1\n",
      "LogReg AUC: 0.7037, Number of components: 2\n",
      "LogReg AUC: 0.7704, Number of components: 3\n",
      "LogReg AUC: 0.6593, Number of components: 4\n",
      "LogReg AUC: 0.7111, Number of components: 5\n",
      "LogReg AUC: 0.7481, Number of components: 6\n",
      "LogReg AUC: 0.8148, Number of components: 7\n",
      "LogReg AUC: 0.8148, Number of components: 8\n",
      "LogReg AUC: 0.8148, Number of components: 9\n"
     ]
    }
   ],
   "source": [
    "# here we will use PCA to reduce dimensionality, with the best parameters of the z_scalling\n",
    "from sklearn.decomposition import PCA\n",
    "\n",
    "scaler = StandardScaler()\n",
    "X_train_scaled = scaler.fit_transform(X_train)\n",
    "X_test_scaled = scaler.transform(X_test)\n",
    "\n",
    "best_hyperparameters = {'C': 1, 'l1_ratio': 0, 'penalty': 'l1', 'random_state': 639, 'solver': 'liblinear'}\n",
    "\n",
    "n_comp = []\n",
    "auc = []\n",
    "for i in range(1,10):\n",
    "    pca = PCA(n_components=i)\n",
    "    X_train_pca = pca.fit_transform(X_train_scaled)\n",
    "    X_test_pca = pca.transform(X_test_scaled)\n",
    "    lr = LogisticRegression(**best_hyperparameters)\n",
    "    lr.fit(X_train_pca, y_train)\n",
    "    y_pred_proba = lr.predict_proba(X_test_pca)[:,1]\n",
    "    auc_i = roc_auc_score(y_test, y_pred_proba)\n",
    "    n_comp.append(i)\n",
    "    auc.append(auc_i)\n",
    "    print(f'LogReg AUC: {auc_i:.4f}, Number of components: {i}')"
   ]
  },
  {
   "cell_type": "code",
   "execution_count": 17,
   "metadata": {},
   "outputs": [
    {
     "data": {
      "text/plain": [
       "Text(0.5, 1.0, 'PCA Analysis')"
      ]
     },
     "execution_count": 17,
     "metadata": {},
     "output_type": "execute_result"
    },
    {
     "data": {
      "image/png": "[encoded data removed]",
      "text/plain": [
       "<Figure size 400x400 with 1 Axes>"
      ]
     },
     "metadata": {},
     "output_type": "display_data"
    }
   ],
   "source": [
    "plt.figure(figsize=(4,4))\n",
    "plt.plot(n_comp, auc)\n",
    "plt.xlabel('Number of components')\n",
    "plt.ylabel('AUC')\n",
    "plt.title('PCA Analysis')"
   ]
  },
  {
   "cell_type": "code",
   "execution_count": null,
   "metadata": {},
   "outputs": [],
   "source": [
    "# we can see that PCA best performance it´s with 7 components, and it has lower AUC than without PCA"
   ]
  },
  {
   "cell_type": "code",
   "execution_count": 21,
   "metadata": {},
   "outputs": [
    {
     "name": "stdout",
     "output_type": "stream",
     "text": [
      "LogReg AUC: 0.8296, Number of components: 1\n"
     ]
    }
   ],
   "source": [
    "# Now we´re going to try LDA\n",
    "\n",
    "from sklearn.discriminant_analysis import LinearDiscriminantAnalysis\n",
    "\n",
    "scaler = StandardScaler()\n",
    "X_train_scaled = scaler.fit_transform(X_train)\n",
    "X_test_scaled = scaler.transform(X_test)\n",
    "\n",
    "best_hyperparameters = {'C': 1, 'l1_ratio': 0, 'penalty': 'l1', 'random_state': 639, 'solver': 'liblinear'}\n",
    "\n",
    "lda = LinearDiscriminantAnalysis(n_components=1)\n",
    "X_train_lda = lda.fit_transform(X_train_scaled, y_train)\n",
    "X_test_lda = lda.transform(X_test_scaled)\n",
    "lr = LogisticRegression(**best_hyperparameters)\n",
    "lr.fit(X_train_lda, y_train)\n",
    "y_pred_proba = lr.predict_proba(X_test_lda)[:,1]\n",
    "auc_i = roc_auc_score(y_test, y_pred_proba)\n",
    "print(f'LogReg AUC: {auc_i:.4f}, Number of components: 1')"
   ]
  },
  {
   "cell_type": "code",
   "execution_count": 22,
   "metadata": {},
   "outputs": [
    {
     "name": "stdout",
     "output_type": "stream",
     "text": [
      "LogReg AUC: 0.6519, Number of components (PCA): 1\n",
      "LogReg AUC: 0.7037, Number of components (PCA): 2\n",
      "LogReg AUC: 0.8000, Number of components (PCA): 3\n",
      "LogReg AUC: 0.6667, Number of components (PCA): 4\n",
      "LogReg AUC: 0.6889, Number of components (PCA): 5\n",
      "LogReg AUC: 0.7556, Number of components (PCA): 6\n",
      "LogReg AUC: 0.8222, Number of components (PCA): 7\n",
      "LogReg AUC: 0.8000, Number of components (PCA): 8\n",
      "LogReg AUC: 0.8296, Number of components (PCA): 9\n"
     ]
    }
   ],
   "source": [
    "# Using only LDA has a good performance but not as without LDA.\n",
    "# Let´s try PCA + LDA\n",
    "\n",
    "scaler = StandardScaler()\n",
    "X_train_scaled = scaler.fit_transform(X_train)\n",
    "X_test_scaled = scaler.transform(X_test)\n",
    "\n",
    "best_hyperparameters = {'C': 1, 'l1_ratio': 0, 'penalty': 'l1', 'random_state': 639, 'solver': 'liblinear'}\n",
    "\n",
    "n_comp = []\n",
    "auc = []\n",
    "for i in range(1,10):\n",
    "    pca = PCA(n_components=i)\n",
    "    lda = LinearDiscriminantAnalysis(n_components=1)\n",
    "    X_train_pca = pca.fit_transform(X_train_scaled)\n",
    "    X_test_pca = pca.transform(X_test_scaled)\n",
    "    X_train_lda = lda.fit_transform(X_train_pca, y_train)\n",
    "    X_test_lda = lda.transform(X_test_pca)\n",
    "    lr = LogisticRegression(**best_hyperparameters)\n",
    "    lr.fit(X_train_lda, y_train)\n",
    "    y_pred_proba = lr.predict_proba(X_test_lda)[:,1]\n",
    "    auc_i = roc_auc_score(y_test, y_pred_proba)\n",
    "    n_comp.append(i)\n",
    "    auc.append(auc_i)\n",
    "    print(f'LogReg AUC: {auc_i:.4f}, Number of components (PCA): {i}')"
   ]
  },
  {
   "cell_type": "code",
   "execution_count": 25,
   "metadata": {},
   "outputs": [
    {
     "name": "stdout",
     "output_type": "stream",
     "text": [
      "LogReg AUC: 0.3407, Number of components (PCA): 1\n",
      "LogReg AUC: 0.5037, Number of components (PCA): 2\n",
      "LogReg AUC: 0.3185, Number of components (PCA): 3\n",
      "LogReg AUC: 0.3037, Number of components (PCA): 4\n",
      "LogReg AUC: 0.7556, Number of components (PCA): 5\n",
      "LogReg AUC: 0.5926, Number of components (PCA): 6\n",
      "LogReg AUC: 0.3852, Number of components (PCA): 7\n",
      "LogReg AUC: 0.7333, Number of components (PCA): 8\n",
      "LogReg AUC: 0.7481, Number of components (PCA): 9\n"
     ]
    }
   ],
   "source": [
    "# Previous application of PCA doesn´t improve the performance of LDA.\n",
    "# let´s try NMF\n",
    "from sklearn.decomposition import NMF\n",
    "\n",
    "best_hyperparameters = {'C': 1, 'l1_ratio': 0, 'penalty': 'l1', 'random_state': 639, 'solver': 'liblinear'}\n",
    "\n",
    "n_comp = []\n",
    "auc = []\n",
    "for i in range(1,10):\n",
    "    nmf = NMF(n_components=i)\n",
    "    X_train_nmf = nmf.fit_transform(X_train)\n",
    "    X_test_nmf = nmf.transform(X_test)\n",
    "    lr = LogisticRegression(**best_hyperparameters)\n",
    "    lr.fit(X_train_nmf, y_train)\n",
    "    y_pred_proba = lr.predict_proba(X_test_nmf)[:,1]\n",
    "    auc_i = roc_auc_score(y_test, y_pred_proba)\n",
    "    n_comp.append(i)\n",
    "    auc.append(auc_i)\n",
    "    print(f'LogReg AUC: {auc_i:.4f}, Number of components (PCA): {i}')"
   ]
  },
  {
   "cell_type": "markdown",
   "metadata": {},
   "source": [
    "NMF does not improves the performance. We conclude that the best LogistigRegression Model is:  \n",
    "Best hyperparameters: {'C': 5, 'penalty': 'l2', 'solver': 'liblinear'}  \n",
    "Scaling: None  \n",
    "Dimensionality reduction: None  \n",
    "AUC on the test set: 0.8370"
   ]
  },
  {
   "cell_type": "code",
   "execution_count": 29,
   "metadata": {},
   "outputs": [
    {
     "name": "stdout",
     "output_type": "stream",
     "text": [
      "Best hyperparameters: {'Cs': 7, 'cv': 10, 'penalty': 'l2', 'random_state': 639, 'solver': 'lbfgs'}\n",
      "AUC on the test set: 0.8222\n"
     ]
    }
   ],
   "source": [
    "# let´s try LinearRegressionCV\n",
    "from sklearn.linear_model import LogisticRegressionCV\n",
    "\n",
    "lr_CV = LogisticRegressionCV()\n",
    "\n",
    "grid_params = {\n",
    "                'penalty': ['l2', 'l1', 'elasticnet'],\n",
    "                'Cs': [0.01, 0.1, 1, 2, 5, 7, 10, 15, 20],\n",
    "                'random_state': [639],\n",
    "                'solver': ['lbfgs', 'liblinear', 'newton-cg', 'newton-cholesky', 'sag', 'saga'],\n",
    "                'cv': [10]\n",
    "}\n",
    "\n",
    "grid_search = GridSearchCV(lr_CV, grid_params, cv=10, scoring='roc_auc')\n",
    "\n",
    "grid_search.fit(X_train, y_train)\n",
    "print(f'Best hyperparameters: {grid_search.best_params_}')\n",
    "\n",
    "best_model = grid_search.best_estimator_\n",
    "y_pred_proba = best_model.predict_proba(X_test)[:, 1]\n",
    "best_auc = roc_auc_score(y_test, y_pred_proba)\n",
    "print(f'AUC on the test set: {best_auc:.4f}')"
   ]
  }
 ],
 "metadata": {
  "kernelspec": {
   "display_name": "Python 3",
   "language": "python",
   "name": "python3"
  },
  "language_info": {
   "codemirror_mode": {
    "name": "ipython",
    "version": 3
   },
   "file_extension": ".py",
   "mimetype": "text/x-python",
   "name": "python",
   "nbconvert_exporter": "python",
   "pygments_lexer": "ipython3",
   "version": "3.11.5"
  }
 },
 "nbformat": 4,
 "nbformat_minor": 2
}
