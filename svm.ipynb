{
 "cells": [
  {
   "cell_type": "code",
   "execution_count": 1,
   "metadata": {},
   "outputs": [],
   "source": [
    "# load part of the toolkit\n",
    "import pandas as pd \n",
    "import numpy as np \n",
    "import matplotlib.pyplot as plt \n",
    "import seaborn as sns \n",
    "import warnings\n",
    "warnings.filterwarnings('ignore')"
   ]
  },
  {
   "cell_type": "code",
   "execution_count": 2,
   "metadata": {},
   "outputs": [
    {
     "data": {
      "text/html": [
       "<div>\n",
       "<style scoped>\n",
       "    .dataframe tbody tr th:only-of-type {\n",
       "        vertical-align: middle;\n",
       "    }\n",
       "\n",
       "    .dataframe tbody tr th {\n",
       "        vertical-align: top;\n",
       "    }\n",
       "\n",
       "    .dataframe thead th {\n",
       "        text-align: right;\n",
       "    }\n",
       "</style>\n",
       "<table border=\"1\" class=\"dataframe\">\n",
       "  <thead>\n",
       "    <tr style=\"text-align: right;\">\n",
       "      <th></th>\n",
       "      <th>Age</th>\n",
       "      <th>BMI</th>\n",
       "      <th>Glucose</th>\n",
       "      <th>Insulin</th>\n",
       "      <th>HOMA</th>\n",
       "      <th>Leptin</th>\n",
       "      <th>Adiponectin</th>\n",
       "      <th>Resistin</th>\n",
       "      <th>MCP.1</th>\n",
       "      <th>Classification</th>\n",
       "    </tr>\n",
       "  </thead>\n",
       "  <tbody>\n",
       "    <tr>\n",
       "      <th>0</th>\n",
       "      <td>48</td>\n",
       "      <td>23.500000</td>\n",
       "      <td>70</td>\n",
       "      <td>2.707</td>\n",
       "      <td>0.467409</td>\n",
       "      <td>8.8071</td>\n",
       "      <td>9.702400</td>\n",
       "      <td>7.99585</td>\n",
       "      <td>417.114</td>\n",
       "      <td>1</td>\n",
       "    </tr>\n",
       "    <tr>\n",
       "      <th>1</th>\n",
       "      <td>83</td>\n",
       "      <td>20.690495</td>\n",
       "      <td>92</td>\n",
       "      <td>3.115</td>\n",
       "      <td>0.706897</td>\n",
       "      <td>8.8438</td>\n",
       "      <td>5.429285</td>\n",
       "      <td>4.06405</td>\n",
       "      <td>468.786</td>\n",
       "      <td>1</td>\n",
       "    </tr>\n",
       "    <tr>\n",
       "      <th>2</th>\n",
       "      <td>82</td>\n",
       "      <td>23.124670</td>\n",
       "      <td>91</td>\n",
       "      <td>4.498</td>\n",
       "      <td>1.009651</td>\n",
       "      <td>17.9393</td>\n",
       "      <td>22.432040</td>\n",
       "      <td>9.27715</td>\n",
       "      <td>554.697</td>\n",
       "      <td>1</td>\n",
       "    </tr>\n",
       "    <tr>\n",
       "      <th>3</th>\n",
       "      <td>68</td>\n",
       "      <td>21.367521</td>\n",
       "      <td>77</td>\n",
       "      <td>3.226</td>\n",
       "      <td>0.612725</td>\n",
       "      <td>9.8827</td>\n",
       "      <td>7.169560</td>\n",
       "      <td>12.76600</td>\n",
       "      <td>928.220</td>\n",
       "      <td>1</td>\n",
       "    </tr>\n",
       "    <tr>\n",
       "      <th>4</th>\n",
       "      <td>86</td>\n",
       "      <td>21.111111</td>\n",
       "      <td>92</td>\n",
       "      <td>3.549</td>\n",
       "      <td>0.805386</td>\n",
       "      <td>6.6994</td>\n",
       "      <td>4.819240</td>\n",
       "      <td>10.57635</td>\n",
       "      <td>773.920</td>\n",
       "      <td>1</td>\n",
       "    </tr>\n",
       "  </tbody>\n",
       "</table>\n",
       "</div>"
      ],
      "text/plain": [
       "   Age        BMI  Glucose  Insulin      HOMA   Leptin  Adiponectin  Resistin  \\\n",
       "0   48  23.500000       70    2.707  0.467409   8.8071     9.702400   7.99585   \n",
       "1   83  20.690495       92    3.115  0.706897   8.8438     5.429285   4.06405   \n",
       "2   82  23.124670       91    4.498  1.009651  17.9393    22.432040   9.27715   \n",
       "3   68  21.367521       77    3.226  0.612725   9.8827     7.169560  12.76600   \n",
       "4   86  21.111111       92    3.549  0.805386   6.6994     4.819240  10.57635   \n",
       "\n",
       "     MCP.1  Classification  \n",
       "0  417.114               1  \n",
       "1  468.786               1  \n",
       "2  554.697               1  \n",
       "3  928.220               1  \n",
       "4  773.920               1  "
      ]
     },
     "execution_count": 2,
     "metadata": {},
     "output_type": "execute_result"
    }
   ],
   "source": [
    "# load data\n",
    "data = pd.read_csv('Coimbra_breast_cancer_dataset.csv')\n",
    "data.head()"
   ]
  },
  {
   "cell_type": "code",
   "execution_count": 3,
   "metadata": {},
   "outputs": [
    {
     "name": "stdout",
     "output_type": "stream",
     "text": [
      "<class 'pandas.core.frame.DataFrame'>\n",
      "RangeIndex: 116 entries, 0 to 115\n",
      "Data columns (total 10 columns):\n",
      " #   Column          Non-Null Count  Dtype  \n",
      "---  ------          --------------  -----  \n",
      " 0   Age             116 non-null    int64  \n",
      " 1   BMI             116 non-null    float64\n",
      " 2   Glucose         116 non-null    int64  \n",
      " 3   Insulin         116 non-null    float64\n",
      " 4   HOMA            116 non-null    float64\n",
      " 5   Leptin          116 non-null    float64\n",
      " 6   Adiponectin     116 non-null    float64\n",
      " 7   Resistin        116 non-null    float64\n",
      " 8   MCP.1           116 non-null    float64\n",
      " 9   Classification  116 non-null    int64  \n",
      "dtypes: float64(7), int64(3)\n",
      "memory usage: 9.2 KB\n"
     ]
    }
   ],
   "source": [
    "# view info:\n",
    "data.info()"
   ]
  },
  {
   "cell_type": "code",
   "execution_count": 4,
   "metadata": {},
   "outputs": [],
   "source": [
    "# modify Classification so we have 0 and 1 values:\n",
    "\n",
    "data['Classification'] = data['Classification'] - 1\n",
    "\n",
    "# Define X and y:\n",
    "\n",
    "X = data.iloc[:,:-1]\n",
    "y = data.iloc[:,-1]"
   ]
  },
  {
   "cell_type": "code",
   "execution_count": 5,
   "metadata": {},
   "outputs": [],
   "source": [
    "# train test split:\n",
    "from sklearn.model_selection import train_test_split\n",
    "\n",
    "X_train, X_test, y_train, y_test = train_test_split(X, y, test_size=0.2, random_state=639)"
   ]
  },
  {
   "cell_type": "code",
   "execution_count": 7,
   "metadata": {},
   "outputs": [],
   "source": [
    "# standar scaler for z-score scaling\n",
    "\n",
    "from sklearn.preprocessing import StandardScaler\n",
    "\n",
    "scaler = StandardScaler()\n",
    "X_train = scaler.fit_transform(X_train)\n",
    "X_test = scaler.transform(X_test)"
   ]
  },
  {
   "cell_type": "code",
   "execution_count": 9,
   "metadata": {},
   "outputs": [
    {
     "name": "stdout",
     "output_type": "stream",
     "text": [
      "Best hyperparameters: {'C': 2, 'degree': 1, 'kernel': 'rbf', 'probability': True, 'random_state': 639}\n",
      "AUC on the test set: 0.9037\n"
     ]
    }
   ],
   "source": [
    "# in this first aproximation, we use only SVC withouth any dimensionality treatment\n",
    "\n",
    "from sklearn.svm import SVC\n",
    "from sklearn.model_selection import GridSearchCV\n",
    "from sklearn.metrics import roc_auc_score\n",
    "\n",
    "svm_model= SVC()\n",
    "\n",
    "param_grid = {\n",
    "                    'C': [i for i in range(1,20)],\n",
    "                    'kernel': ['linear', 'poly', 'rbf', 'sigmoid'],\n",
    "                    'degree': [i for i in range(1,10)],\n",
    "                    'random_state': [639],\n",
    "                    'probability': [True]\n",
    "}\n",
    "\n",
    "grid_search = GridSearchCV(svm_model, param_grid, cv=10, scoring='roc_auc')\n",
    "grid_search.fit(X_train, y_train)\n",
    "print(f'Best hyperparameters: {grid_search.best_params_}')\n",
    "\n",
    "best_model = grid_search.best_estimator_\n",
    "y_pred_proba = best_model.predict_proba(X_test)[:, 1]\n",
    "best_auc = roc_auc_score(y_test, y_pred_proba)\n",
    "print(f'AUC on the test set: {best_auc:.4f}')"
   ]
  },
  {
   "cell_type": "code",
   "execution_count": 11,
   "metadata": {},
   "outputs": [
    {
     "name": "stdout",
     "output_type": "stream",
     "text": [
      "Best hyperparameters: {'C': 1, 'degree': 1, 'kernel': 'linear', 'probability': True, 'random_state': 639}, with 1 components\n",
      "AUC on the test set: 0.6519\n",
      "Best hyperparameters: {'C': 1, 'degree': 3, 'kernel': 'poly', 'probability': True, 'random_state': 639}, with 2 components\n",
      "AUC on the test set: 0.7407\n",
      "Best hyperparameters: {'C': 1, 'degree': 3, 'kernel': 'poly', 'probability': True, 'random_state': 639}, with 3 components\n",
      "AUC on the test set: 0.8000\n",
      "Best hyperparameters: {'C': 17, 'degree': 1, 'kernel': 'rbf', 'probability': True, 'random_state': 639}, with 4 components\n",
      "AUC on the test set: 0.7778\n",
      "Best hyperparameters: {'C': 10, 'degree': 3, 'kernel': 'poly', 'probability': True, 'random_state': 639}, with 5 components\n",
      "AUC on the test set: 0.8148\n",
      "Best hyperparameters: {'C': 6, 'degree': 1, 'kernel': 'rbf', 'probability': True, 'random_state': 639}, with 6 components\n",
      "AUC on the test set: 0.8444\n",
      "Best hyperparameters: {'C': 11, 'degree': 1, 'kernel': 'rbf', 'probability': True, 'random_state': 639}, with 7 components\n",
      "AUC on the test set: 0.8741\n",
      "Best hyperparameters: {'C': 2, 'degree': 1, 'kernel': 'rbf', 'probability': True, 'random_state': 639}, with 8 components\n",
      "AUC on the test set: 0.9037\n",
      "Best hyperparameters: {'C': 2, 'degree': 1, 'kernel': 'rbf', 'probability': True, 'random_state': 639}, with 9 components\n",
      "AUC on the test set: 0.9037\n"
     ]
    }
   ],
   "source": [
    "# let´s try now a dimensionality reduction using PCA\n",
    "\n",
    "from sklearn.decomposition import PCA\n",
    "\n",
    "n_comp = []\n",
    "auc = []\n",
    "for i in range(1,10):\n",
    "\n",
    "    pca = PCA(n_components=i)\n",
    "    X_train_pca = pca.fit_transform(X_train)\n",
    "    X_test_pca = pca.transform(X_test)\n",
    "\n",
    "    svm_model= SVC()\n",
    "    param_grid = {\n",
    "                        'C': [i for i in range(1,20)],\n",
    "                        'kernel': ['linear', 'poly', 'rbf', 'sigmoid'],\n",
    "                        'degree': [i for i in range(1,10)],\n",
    "                        'random_state': [639],\n",
    "                        'probability': [True]\n",
    "    }\n",
    "\n",
    "    grid_search = GridSearchCV(svm_model, param_grid, cv=10, scoring='roc_auc')\n",
    "    grid_search.fit(X_train_pca, y_train)\n",
    "    print(f'Best hyperparameters: {grid_search.best_params_}, with {i} components')\n",
    "\n",
    "    best_model = grid_search.best_estimator_\n",
    "    y_pred_proba = best_model.predict_proba(X_test_pca)[:, 1]\n",
    "    best_auc = roc_auc_score(y_test, y_pred_proba)\n",
    "    print(f'AUC on the test set: {best_auc:.4f}')\n",
    "    n_comp.append(i)\n",
    "    auc.append(best_auc)"
   ]
  },
  {
   "cell_type": "code",
   "execution_count": 12,
   "metadata": {},
   "outputs": [
    {
     "name": "stdout",
     "output_type": "stream",
     "text": [
      "Best hyperparameters: {'random_state': 639, 'probability': True, 'kernel': 'linear', 'degree': 5, 'C': 10}, with 1 components\n",
      "AUC on the test set: 0.6519\n",
      "Best hyperparameters: {'random_state': 639, 'probability': True, 'kernel': 'linear', 'degree': 6, 'C': 3}, with 2 components\n",
      "AUC on the test set: 0.7111\n",
      "Best hyperparameters: {'random_state': 639, 'probability': True, 'kernel': 'linear', 'degree': 6, 'C': 18}, with 3 components\n",
      "AUC on the test set: 0.8148\n",
      "Best hyperparameters: {'random_state': 639, 'probability': True, 'kernel': 'rbf', 'degree': 5, 'C': 11}, with 4 components\n",
      "AUC on the test set: 0.7926\n",
      "Best hyperparameters: {'random_state': 639, 'probability': True, 'kernel': 'rbf', 'degree': 3, 'C': 8}, with 5 components\n",
      "AUC on the test set: 0.7556\n",
      "Best hyperparameters: {'random_state': 639, 'probability': True, 'kernel': 'rbf', 'degree': 4, 'C': 12}, with 6 components\n",
      "AUC on the test set: 0.8370\n",
      "Best hyperparameters: {'random_state': 639, 'probability': True, 'kernel': 'rbf', 'degree': 9, 'C': 11}, with 7 components\n",
      "AUC on the test set: 0.8741\n",
      "Best hyperparameters: {'random_state': 639, 'probability': True, 'kernel': 'rbf', 'degree': 2, 'C': 12}, with 8 components\n",
      "AUC on the test set: 0.8444\n",
      "Best hyperparameters: {'random_state': 639, 'probability': True, 'kernel': 'rbf', 'degree': 5, 'C': 9}, with 9 components\n",
      "AUC on the test set: 0.8444\n"
     ]
    }
   ],
   "source": [
    "from sklearn.model_selection import RandomizedSearchCV\n",
    "\n",
    "n_comp = []\n",
    "auc = []\n",
    "for i in range(1,10):\n",
    "\n",
    "    pca = PCA(n_components=i)\n",
    "    X_train_pca = pca.fit_transform(X_train)\n",
    "    X_test_pca = pca.transform(X_test)\n",
    "\n",
    "    svm_model= SVC()\n",
    "    param_grid = {\n",
    "                        'C': [i for i in range(1,20)],\n",
    "                        'kernel': ['linear', 'poly', 'rbf', 'sigmoid'],\n",
    "                        'degree': [i for i in range(1,10)],\n",
    "                        'random_state': [639],\n",
    "                        'probability': [True]\n",
    "    }\n",
    "\n",
    "    rand_search = RandomizedSearchCV(svm_model, param_grid, n_iter=10, scoring='roc_auc')\n",
    "    rand_search.fit(X_train_pca, y_train)\n",
    "    print(f'Best hyperparameters: {rand_search.best_params_}, with {i} components')\n",
    "\n",
    "    best_model = rand_search.best_estimator_\n",
    "    y_pred_proba = best_model.predict_proba(X_test_pca)[:, 1]\n",
    "    best_auc = roc_auc_score(y_test, y_pred_proba)\n",
    "    print(f'AUC on the test set: {best_auc:.4f}')\n",
    "    n_comp.append(i)\n",
    "    auc.append(best_auc)"
   ]
  }
 ],
 "metadata": {
  "kernelspec": {
   "display_name": "Python 3",
   "language": "python",
   "name": "python3"
  },
  "language_info": {
   "codemirror_mode": {
    "name": "ipython",
    "version": 3
   },
   "file_extension": ".py",
   "mimetype": "text/x-python",
   "name": "python",
   "nbconvert_exporter": "python",
   "pygments_lexer": "ipython3",
   "version": "3.11.5"
  }
 },
 "nbformat": 4,
 "nbformat_minor": 2
}
